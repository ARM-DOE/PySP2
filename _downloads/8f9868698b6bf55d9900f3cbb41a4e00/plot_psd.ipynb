{
  "cells": [
    {
      "cell_type": "markdown",
      "metadata": {},
      "source": [
        "\n# Example on plotting particle concentration data timeseries\n"
      ]
    },
    {
      "cell_type": "code",
      "execution_count": null,
      "metadata": {
        "collapsed": false
      },
      "outputs": [],
      "source": [
        "import matplotlib.pyplot as plt\nimport pysp2\n\n\nmy_sp2b = pysp2.io.read_sp2(pysp2.testing.EXAMPLE_SP2B)\nmy_ini = pysp2.io.read_config(pysp2.testing.EXAMPLE_INI)\nmy_binary = pysp2.util.gaussian_fit(my_sp2b, my_ini)\nmy_hk = pysp2.io.read_hk_file(pysp2.testing.EXAMPLE_HK)\nmy_binary = pysp2.util.calc_diams_masses(my_binary)\nmy_psds = pysp2.util.process_psds(my_binary, my_hk, my_ini)\n\nmy_psds['NumConcIncan'].plot()\nplt.show()"
      ]
    }
  ],
  "metadata": {
    "kernelspec": {
      "display_name": "Python 3",
      "language": "python",
      "name": "python3"
    },
    "language_info": {
      "codemirror_mode": {
        "name": "ipython",
        "version": 3
      },
      "file_extension": ".py",
      "mimetype": "text/x-python",
      "name": "python",
      "nbconvert_exporter": "python",
      "pygments_lexer": "ipython3",
      "version": "3.12.0"
    }
  },
  "nbformat": 4,
  "nbformat_minor": 0
}