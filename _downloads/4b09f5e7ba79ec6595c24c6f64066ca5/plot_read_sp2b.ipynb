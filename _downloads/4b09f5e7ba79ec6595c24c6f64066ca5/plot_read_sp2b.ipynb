{
  "cells": [
    {
      "cell_type": "markdown",
      "metadata": {},
      "source": [
        "\n# Example for plotting a wave in a .sp2b file\n"
      ]
    },
    {
      "cell_type": "code",
      "execution_count": null,
      "metadata": {
        "collapsed": false
      },
      "outputs": [],
      "source": [
        "import pysp2\nimport matplotlib.pyplot as plt\n\nmy_sp2 = pysp2.io.read_sp2(pysp2.testing.EXAMPLE_SP2B)\nmy_config = pysp2.io.read_config(pysp2.testing.EXAMPLE_INI)\nmy_sp2 = pysp2.util.gaussian_fit(my_sp2, my_config)\nprint(my_sp2)\npysp2.vis.plot_wave(my_sp2, 1100, 0)\nplt.show()"
      ]
    }
  ],
  "metadata": {
    "kernelspec": {
      "display_name": "Python 3",
      "language": "python",
      "name": "python3"
    },
    "language_info": {
      "codemirror_mode": {
        "name": "ipython",
        "version": 3
      },
      "file_extension": ".py",
      "mimetype": "text/x-python",
      "name": "python",
      "nbconvert_exporter": "python",
      "pygments_lexer": "ipython3",
      "version": "3.12.2"
    }
  },
  "nbformat": 4,
  "nbformat_minor": 0
}