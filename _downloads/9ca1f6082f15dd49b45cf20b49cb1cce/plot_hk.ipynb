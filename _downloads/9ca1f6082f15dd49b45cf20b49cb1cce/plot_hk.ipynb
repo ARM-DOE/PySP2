{
  "cells": [
    {
      "cell_type": "code",
      "execution_count": null,
      "metadata": {
        "collapsed": false
      },
      "outputs": [],
      "source": [
        "%matplotlib inline"
      ]
    },
    {
      "cell_type": "markdown",
      "metadata": {},
      "source": [
        "\n# Example for plotting number of particles in housekeeping data\n"
      ]
    },
    {
      "cell_type": "code",
      "execution_count": null,
      "metadata": {
        "collapsed": false
      },
      "outputs": [],
      "source": [
        "import pysp2\nimport matplotlib.pyplot as plt\n\nmy_hk = pysp2.io.read_hk_file(pysp2.testing.EXAMPLE_HK)\nprint(my_hk)\n# my_hk is a standard xarray dataset, so one can use xarray's plotting\n# capabilities in order to make the plot\nmy_hk['Num of Particles'].plot()\nplt.show()"
      ]
    }
  ],
  "metadata": {
    "kernelspec": {
      "display_name": "Python 3",
      "language": "python",
      "name": "python3"
    },
    "language_info": {
      "codemirror_mode": {
        "name": "ipython",
        "version": 3
      },
      "file_extension": ".py",
      "mimetype": "text/x-python",
      "name": "python",
      "nbconvert_exporter": "python",
      "pygments_lexer": "ipython3",
      "version": "3.11.0"
    }
  },
  "nbformat": 4,
  "nbformat_minor": 0
}